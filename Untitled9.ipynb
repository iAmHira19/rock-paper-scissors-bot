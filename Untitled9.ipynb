{
  "nbformat": 4,
  "nbformat_minor": 0,
  "metadata": {
    "colab": {
      "provenance": [],
      "authorship_tag": "ABX9TyNk4pDwt6eE6C/N5guyf3EQ",
      "include_colab_link": true
    },
    "kernelspec": {
      "name": "python3",
      "display_name": "Python 3"
    },
    "language_info": {
      "name": "python"
    }
  },
  "cells": [
    {
      "cell_type": "markdown",
      "metadata": {
        "id": "view-in-github",
        "colab_type": "text"
      },
      "source": [
        "<a href=\"https://colab.research.google.com/github/iAmHira19/rock-paper-scissors-bot/blob/main/Untitled9.ipynb\" target=\"_parent\"><img src=\"https://colab.research.google.com/assets/colab-badge.svg\" alt=\"Open In Colab\"/></a>"
      ]
    },
    {
      "cell_type": "code",
      "execution_count": 1,
      "metadata": {
        "colab": {
          "base_uri": "https://localhost:8080/"
        },
        "id": "0EI1MC2QR7Ex",
        "outputId": "c37c8199-5473-4b44-863b-9bebeadd6a96"
      },
      "outputs": [
        {
          "output_type": "stream",
          "name": "stdout",
          "text": [
            "import random\r\n",
            "from collections import defaultdict\r\n",
            "\r\n",
            "# Dictionary to keep track of the opponent's moves\r\n",
            "opponent_history = defaultdict(int)\r\n",
            "\r\n",
            "def player(prev_play):\r\n",
            "    # If prev_play is empty, it means it's the first move\r\n",
            "    if prev_play == \"\":\r\n",
            "        return random.choice(['R', 'P', 'S'])\r\n",
            "    \r\n",
            "    # Update the opponent's move history\r\n",
            "    opponent_history[prev_play] += 1\r\n",
            "    \r\n",
            "    # Determine the most common move of the opponent\r\n",
            "    most_common_move = max(opponent_history, key=opponent_history.get, default=random.choice(['R', 'P', 'S']))\r\n",
            "    \r\n",
            "    # Counter strategy: Choose the move that beats the most common move of the opponent\r\n",
            "    if most_common_move == 'R':\r\n",
            "        return 'P'  # Paper beats Rock\r\n",
            "    elif most_common_move == 'P':\r\n",
            "        return 'S'  # Scissors beats Paper\r\n",
            "    elif most_common_move == 'S':\r\n",
            "        return 'R'  # Rock beats Scissors\r\n"
          ]
        }
      ],
      "source": [
        "# Verify the contents of RPS_game.py\n",
        "!cat RPS_game.py\n"
      ]
    },
    {
      "cell_type": "code",
      "source": [
        "import random\n",
        "from RPS_game import player  # Import the player function from RPS_game.py\n",
        "\n",
        "# A simple mock opponent function for testing\n",
        "def mock_opponent(prev_play):\n",
        "    return random.choice(['R', 'P', 'S'])\n",
        "\n",
        "# A function to simulate a match between your player and the mock opponent\n",
        "def simulate_match(player_func, opponent_func, num_games=1000):\n",
        "    player_wins = 0\n",
        "    opponent_wins = 0\n",
        "    prev_play = \"\"\n",
        "\n",
        "    for _ in range(num_games):\n",
        "        player_move = player_func(prev_play)\n",
        "        opponent_move = opponent_func(prev_play)\n",
        "\n",
        "        if player_move == opponent_move:\n",
        "            result = \"Tie\"\n",
        "        elif (player_move == 'R' and opponent_move == 'S') or \\\n",
        "             (player_move == 'P' and opponent_move == 'R') or \\\n",
        "             (player_move == 'S' and opponent_move == 'P'):\n",
        "            player_wins += 1\n",
        "            result = \"Player wins\"\n",
        "        else:\n",
        "            opponent_wins += 1\n",
        "            result = \"Opponent wins\"\n",
        "\n",
        "        # Update prev_play for the next round\n",
        "        prev_play = opponent_move\n",
        "\n",
        "    # Print the final results\n",
        "    print(f\"After {num_games} games:\")\n",
        "    print(f\"Player wins: {player_wins}\")\n",
        "    print(f\"Opponent wins: {opponent_wins}\")\n",
        "\n",
        "# Run the simulation\n",
        "simulate_match(player, mock_opponent, num_games=1000)\n"
      ],
      "metadata": {
        "colab": {
          "base_uri": "https://localhost:8080/"
        },
        "id": "CHm3Q1a01Gb9",
        "outputId": "6ac094fc-232e-4d62-8918-035334cd14fc"
      },
      "execution_count": 2,
      "outputs": [
        {
          "output_type": "stream",
          "name": "stdout",
          "text": [
            "After 1000 games:\n",
            "Player wins: 314\n",
            "Opponent wins: 347\n"
          ]
        }
      ]
    }
  ]
}